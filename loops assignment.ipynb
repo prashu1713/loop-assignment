{
 "cells": [
  {
   "cell_type": "markdown",
   "id": "51d960ff-6bb8-45ff-a086-0602c448612f",
   "metadata": {},
   "source": [
    "Print number from 1 to 5 uing a while loop."
   ]
  },
  {
   "cell_type": "code",
   "execution_count": 1,
   "id": "fff4a91c-2e18-4107-a556-f1607a9de168",
   "metadata": {},
   "outputs": [
    {
     "name": "stdout",
     "output_type": "stream",
     "text": [
      "1\n",
      "2\n",
      "3\n",
      "4\n",
      "5\n"
     ]
    }
   ],
   "source": [
    "n = 6\n",
    "i = 1\n",
    "while i < n:\n",
    "    print(i)\n",
    "    i += 1"
   ]
  },
  {
   "cell_type": "markdown",
   "id": "f2b6a913-cc49-4dc6-9fd4-0dc26ded613a",
   "metadata": {},
   "source": [
    "Calculate the sum of numbers from 1 to 10 uing a while loop."
   ]
  },
  {
   "cell_type": "code",
   "execution_count": 3,
   "id": "856af88e-b958-402c-b6d6-f85cf77130e5",
   "metadata": {},
   "outputs": [
    {
     "name": "stdout",
     "output_type": "stream",
     "text": [
      "the sum of numbers from 1 to 10 is: 55\n"
     ]
    }
   ],
   "source": [
    "a =0\n",
    "i = 1\n",
    "\n",
    "while i <= 10:\n",
    "    a += i\n",
    "    i += 1\n",
    "    \n",
    "print(f'the sum of numbers from 1 to 10 is: {a}')"
   ]
  },
  {
   "cell_type": "markdown",
   "id": "be5c4e87-0b8e-46fc-aeb5-6946299a320b",
   "metadata": {},
   "source": [
    "Calculate the factorial of a number uing a for loop."
   ]
  },
  {
   "cell_type": "code",
   "execution_count": 5,
   "id": "d9f235aa-8391-47ec-9991-3050e8b62248",
   "metadata": {},
   "outputs": [
    {
     "name": "stdout",
     "output_type": "stream",
     "text": [
      "the factorial of 6 is 720\n"
     ]
    }
   ],
   "source": [
    "a = 6\n",
    "factorial = 1\n",
    "\n",
    "if a < 0:\n",
    "    print(\"factorial for negative no. doesn't exist\")\n",
    "\n",
    "elif a == 0:\n",
    "          print(\"factorail for 0 is 1\")\n",
    "else:\n",
    "    for i in range(1, a + 1):\n",
    "          factorial *= i\n",
    "print(f\"the factorial of {a} is {factorial}\")"
   ]
  },
  {
   "cell_type": "markdown",
   "id": "cea80ffc-396a-4c92-ae11-c1f9eb264fc8",
   "metadata": {},
   "source": [
    "Count the number of vowels in a string using a for loop."
   ]
  },
  {
   "cell_type": "code",
   "execution_count": 13,
   "id": "8b6d968d-4147-49f8-bd2e-d6a4c2cd1a2e",
   "metadata": {},
   "outputs": [
    {
     "name": "stdout",
     "output_type": "stream",
     "text": [
      "11\n"
     ]
    }
   ],
   "source": [
    "def vowels_string(string):\n",
    "    vowels = 'AaEeIiOoUu'\n",
    "    count = 0\n",
    "    for char in string:\n",
    "        if char in vowels:\n",
    "            count += 1\n",
    "    return count\n",
    "\n",
    "input_string = ('India, the upcoming superpower')\n",
    "print(vowels_string(input_string))"
   ]
  },
  {
   "cell_type": "markdown",
   "id": "12abc422-3bf2-4c5e-9010-baa4dd865f06",
   "metadata": {},
   "source": [
    "Print a pattern using nested loop."
   ]
  },
  {
   "cell_type": "code",
   "execution_count": 17,
   "id": "8dbfbca6-cee2-4f67-bca4-b0d9b9dc618c",
   "metadata": {},
   "outputs": [
    {
     "name": "stdout",
     "output_type": "stream",
     "text": [
      "&\n",
      "&&\n",
      "&&&\n",
      "&&&&\n",
      "&&&&&\n"
     ]
    }
   ],
   "source": [
    "row = 1\n",
    "while row <= 5:\n",
    "    col = 1\n",
    "    while col <= row:\n",
    "        print(\"&\", end = \"\" )\n",
    "        col += 1\n",
    "    print()\n",
    "    row += 1"
   ]
  },
  {
   "cell_type": "markdown",
   "id": "f532b2ff-9ddd-4670-a7b7-a8e32506708d",
   "metadata": {},
   "source": [
    "Generate a multiplication table using nested loop."
   ]
  },
  {
   "cell_type": "code",
   "execution_count": 24,
   "id": "3842e9fd-312b-4e06-bea1-6f6de9470136",
   "metadata": {},
   "outputs": [
    {
     "name": "stdout",
     "output_type": "stream",
     "text": [
      "   1 \n",
      "   2 \n",
      "   3 \n",
      "   4 \n",
      "   5 \n",
      "   6 \n",
      "   7 \n",
      "   8 \n",
      "   9 \n",
      "   1    2    3    4    5    6    7    8    9 \n",
      "   2    4    6    8   10   12   14   16   18 \n",
      "   3    6    9   12   15   18   21   24   27 \n",
      "   4    8   12   16   20   24   28   32   36 \n",
      "   5   10   15   20   25   30   35   40   45 \n",
      "   6   12   18   24   30   36   42   48   54 \n",
      "   7   14   21   28   35   42   49   56   63 \n",
      "   8   16   24   32   40   48   56   64   72 \n",
      "   9   18   27   36   45   54   63   72   81 \n"
     ]
    }
   ],
   "source": [
    "for p in range (1,10):\n",
    "    print(\"  \", p, end = ' ')\n",
    "    print()\n",
    "for row in range(1, 10):\n",
    "    for col in range(1, 10):\n",
    "        num = row * col\n",
    "        if num < 10:\n",
    "            empty = \"  \"\n",
    "        else:\n",
    "            if num < 100:\n",
    "                empty = \" \"\n",
    "        print(empty, num, end = ' ')\n",
    "    print()"
   ]
  },
  {
   "cell_type": "code",
   "execution_count": null,
   "id": "b8003814-3158-43e9-9cc0-d8108a88e784",
   "metadata": {},
   "outputs": [],
   "source": []
  }
 ],
 "metadata": {
  "kernelspec": {
   "display_name": "Python 3 (ipykernel)",
   "language": "python",
   "name": "python3"
  },
  "language_info": {
   "codemirror_mode": {
    "name": "ipython",
    "version": 3
   },
   "file_extension": ".py",
   "mimetype": "text/x-python",
   "name": "python",
   "nbconvert_exporter": "python",
   "pygments_lexer": "ipython3",
   "version": "3.10.8"
  }
 },
 "nbformat": 4,
 "nbformat_minor": 5
}
